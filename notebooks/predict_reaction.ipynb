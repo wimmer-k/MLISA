{
 "cells": [
  {
   "cell_type": "code",
   "execution_count": null,
   "id": "0",
   "metadata": {},
   "outputs": [],
   "source": [
    "import pandas as pd\n",
    "import numpy as np\n",
    "from pathlib import Path\n",
    "import sys\n",
    "import yaml\n",
    "# Allow imports from project scripts\n",
    "#sys.path.append(str(Path.cwd().parents[0]))\n",
    "project_root = Path.cwd().parents[0]\n",
    "sys.path.append(str(project_root))\n",
    "from scripts.paths import PROJECT_ROOT, load_config\n",
    "\n",
    "with open(\"../configs/sim1.yaml\", 'r') as f:\n",
    "    config = yaml.safe_load(f)\n",
    "sim_cfg = config[\"simulation\"]\n",
    "\n",
    "sim_cfg\n"
   ]
  },
  {
   "cell_type": "code",
   "execution_count": null,
   "id": "1",
   "metadata": {},
   "outputs": [],
   "source": [
    "\n",
    "# Load data\n",
    "df = pd.read_csv(Path(\"../data/sim1/smeared.csv\"))  # adjust path as needed\n",
    "df = df.dropna(subset=[col for col in df.columns if col.startswith(\"dE_\")])\n",
    "\n",
    "# Binary target: 0 = no reaction, 1 = reaction occurred\n",
    "df[\"reaction_occurred\"] = (df[\"reaction_layer\"] > 0).astype(int)\n",
    "\n",
    "# Check balance\n",
    "print(df[\"reaction_occurred\"].value_counts(normalize=True))\n"
   ]
  },
  {
   "cell_type": "code",
   "execution_count": null,
   "id": "2",
   "metadata": {},
   "outputs": [],
   "source": [
    "from sklearn.model_selection import train_test_split\n",
    "\n",
    "# Features: you can tweak this later\n",
    "features = ['b_in', 'b_out'] + [f'dE_{i+1}' for i in range(5)]\n",
    "X = df[features]\n",
    "y = df[\"reaction_occurred\"]\n",
    "\n",
    "# Train-test split with stratification to preserve class balance\n",
    "X_train, X_test, y_train, y_test = train_test_split(\n",
    "    X, y, test_size=0.25, stratify=y, random_state=42\n",
    ")\n",
    "\n",
    "print(\"Class balance in train:\", y_train.value_counts(normalize=True).round(3).to_dict())\n"
   ]
  },
  {
   "cell_type": "code",
   "execution_count": null,
   "id": "3",
   "metadata": {},
   "outputs": [],
   "source": [
    "from sklearn.preprocessing import StandardScaler\n",
    "from sklearn.linear_model import LogisticRegression\n",
    "from sklearn.metrics import classification_report, confusion_matrix\n",
    "\n",
    "# Scale features\n",
    "scaler = StandardScaler()\n",
    "X_train_scaled = scaler.fit_transform(X_train)\n",
    "X_test_scaled = scaler.transform(X_test)\n",
    "\n",
    "# Train logistic regression\n",
    "clf = LogisticRegression(class_weight='balanced', max_iter=1000)\n",
    "clf.fit(X_train_scaled, y_train)\n",
    "y_pred = clf.predict(X_test_scaled)\n",
    "\n",
    "# Evaluate\n",
    "print(classification_report(y_test, y_pred, digits=3))"
   ]
  },
  {
   "cell_type": "code",
   "execution_count": null,
   "id": "4",
   "metadata": {},
   "outputs": [],
   "source": [
    "reacted_df = df[df[\"reaction_occurred\"] == 1].copy()\n",
    "\n",
    "# Add total depth = sum of full layers before + reaction_depth in layer\n",
    "thicknesses = sim_cfg[\"layer_thickness\"]  # or sim_cfg if in notebook\n",
    "def compute_total_depth(row):\n",
    "    if row[\"reaction_layer\"] == 0:\n",
    "        return np.nan\n",
    "    layer_idx = int(row[\"reaction_layer\"]) - 1  # convert to int\n",
    "    return sum(thicknesses[:layer_idx]) + row[\"reaction_depth\"]\n",
    "\n",
    "df[\"reaction_total_depth\"] = reacted_df.apply(compute_total_depth, axis=1)\n",
    "X_react = reacted_df[features]\n",
    "y_react = reacted_df[\"reaction_total_depth\"]"
   ]
  },
  {
   "cell_type": "code",
   "execution_count": null,
   "id": "5",
   "metadata": {},
   "outputs": [],
   "source": [
    "from sklearn.model_selection import train_test_split\n",
    "from sklearn.preprocessing import StandardScaler\n",
    "\n",
    "# Split\n",
    "Xr_train, Xr_test, yr_train, yr_test = train_test_split(\n",
    "    X_react, y_react, test_size=0.25, random_state=42\n",
    ")\n",
    "\n",
    "# Scale features\n",
    "scaler_r = StandardScaler()\n",
    "Xr_train_scaled = scaler_r.fit_transform(Xr_train)\n",
    "Xr_test_scaled = scaler_r.transform(Xr_test)"
   ]
  },
  {
   "cell_type": "code",
   "execution_count": null,
   "id": "6",
   "metadata": {},
   "outputs": [],
   "source": [
    "from sklearn.ensemble import RandomForestRegressor\n",
    "from sklearn.metrics import mean_absolute_error, mean_squared_error\n",
    "import matplotlib.pyplot as plt\n",
    "\n",
    "# Fit regressor\n",
    "reg = RandomForestRegressor(n_estimators=100, random_state=42)\n",
    "reg.fit(Xr_train_scaled, yr_train)\n",
    "yr_pred = reg.predict(Xr_test_scaled)\n",
    "\n",
    "# Evaluate\n",
    "mae = mean_absolute_error(yr_test, yr_pred)\n",
    "rmse = np.sqrt(mean_squared_error(yr_test, yr_pred))\n",
    "\n",
    "print(f\"MAE:  {mae:.4f}\")\n",
    "print(f\"RMSE: {rmse:.4f}\")\n",
    "\n"
   ]
  },
  {
   "cell_type": "code",
   "execution_count": null,
   "id": "7",
   "metadata": {},
   "outputs": [],
   "source": [
    "import matplotlib.pyplot as plt\n",
    "import matplotlib.colors as mcolors\n",
    "\n",
    "# Get reaction layers for coloring\n",
    "layer_colors = reacted_df.loc[y_react.index, \"reaction_layer\"].loc[yr_test.index]\n",
    "\n",
    "# Setup discrete colormap\n",
    "unique_layers = sorted(layer_colors.unique())\n",
    "cmap = plt.cm.get_cmap('viridis', len(unique_layers))\n",
    "norm = mcolors.BoundaryNorm(boundaries=np.arange(min(unique_layers)-0.5, max(unique_layers)+1.5), ncolors=len(unique_layers))\n",
    "\n",
    "plt.figure(figsize=(7, 6))\n",
    "scatter = plt.scatter(yr_test, yr_pred, c=layer_colors, cmap=cmap, norm=norm, alpha=0.6, s=10)\n",
    "plt.plot([yr_test.min(), yr_test.max()], [yr_test.min(), yr_test.max()], 'r--')\n",
    "plt.xlabel(\"True Reaction Depth [mm]\")\n",
    "plt.ylabel(\"Predicted Depth [mm]\")\n",
    "plt.title(\"Reaction Depth Prediction Colored by Reaction Layer\")\n",
    "cbar = plt.colorbar(scatter, ticks=unique_layers)\n",
    "cbar.set_label(\"Reaction Layer\")\n",
    "plt.tight_layout()\n",
    "plt.show()"
   ]
  },
  {
   "cell_type": "code",
   "execution_count": null,
   "id": "8",
   "metadata": {},
   "outputs": [],
   "source": [
    "# Residuals plot with same coloring\n",
    "residuals = yr_pred - yr_test\n",
    "\n",
    "plt.figure(figsize=(8, 5))\n",
    "scatter = plt.scatter(yr_test, residuals, c=layer_colors, cmap=cmap, norm=norm, alpha=0.6, s=10)\n",
    "plt.axhline(0, color='red', linestyle='--')\n",
    "plt.xlabel(\"True Reaction Depth [mm]\")\n",
    "plt.ylabel(\"Residual (Predicted - True) [mm]\")\n",
    "plt.title(\"Residuals Colored by Reaction Layer\")\n",
    "cbar = plt.colorbar(scatter, ticks=unique_layers)\n",
    "cbar.set_label(\"Reaction Layer\")\n",
    "plt.grid(True)\n",
    "plt.tight_layout()\n",
    "plt.show()"
   ]
  },
  {
   "cell_type": "code",
   "execution_count": null,
   "id": "9",
   "metadata": {},
   "outputs": [],
   "source": []
  }
 ],
 "metadata": {
  "kernelspec": {
   "display_name": "Python 3 (ipykernel)",
   "language": "python",
   "name": "python3"
  },
  "language_info": {
   "codemirror_mode": {
    "name": "ipython",
    "version": 3
   },
   "file_extension": ".py",
   "mimetype": "text/x-python",
   "name": "python",
   "nbconvert_exporter": "python",
   "pygments_lexer": "ipython3",
   "version": "3.10.12"
  }
 },
 "nbformat": 4,
 "nbformat_minor": 5
}
