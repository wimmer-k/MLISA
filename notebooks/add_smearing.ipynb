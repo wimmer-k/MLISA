{
 "cells": [
  {
   "cell_type": "code",
   "execution_count": null,
   "id": "0",
   "metadata": {},
   "outputs": [],
   "source": [
    "import pandas as pd\n",
    "import sys\n",
    "from pathlib import Path\n",
    "# Set up project root and import paths\n",
    "project_root = Path.cwd().parents[0]\n",
    "sys.path.append(str(project_root))\n",
    "\n",
    "# Import config and generator\n",
    "from scripts.paths import PROJECT_ROOT, load_config\n",
    "from scripts.generate_data import generate_dataset \n",
    "\n",
    "# Load configuration\n",
    "config = load_config()\n",
    "sim_cfg = config[\"simulation\"]\n",
    "\n",
    "# Generate dataset\n",
    "df = pd.DataFrame(generate_dataset(\n",
    "    n=sim_cfg[\"n_events\"],\n",
    "    Z=sim_cfg[\"Z\"],\n",
    "    A=sim_cfg[\"A\"],\n",
    "    b_min=sim_cfg[\"b_min\"],\n",
    "    b_max=sim_cfg[\"b_max\"],\n",
    "    layers=sim_cfg[\"layers\"],\n",
    "    reaction_prob=sim_cfg[\"reaction_prob\"],\n",
    "    layer_thickness=sim_cfg[\"layer_thickness\"],\n",
    "    eloss_scaling=sim_cfg[\"eloss_scaling\"]\n",
    "))"
   ]
  },
  {
   "cell_type": "code",
   "execution_count": null,
   "id": "1",
   "metadata": {},
   "outputs": [],
   "source": [
    "import numpy as np\n",
    "def apply_energy_smearing(df, resolutions):\n",
    "    \"\"\"\n",
    "    Apply Gaussian smearing to each dE_i column using per-layer resolutions.\n",
    "\n",
    "    resolutions: float or list of floats (one per layer)\n",
    "    \"\"\"\n",
    "    df_smeared = df.copy()\n",
    "\n",
    "    dE_cols = [col for col in df.columns if col.startswith(\"dE_\")]\n",
    "\n",
    "    if isinstance(resolutions, float) or isinstance(resolutions, int):\n",
    "        resolutions = [resolutions] * len(dE_cols)\n",
    "\n",
    "    assert len(resolutions) == len(dE_cols), \"Resolution list must match number of dE columns\"\n",
    "\n",
    "    for i, col in enumerate(dE_cols):\n",
    "        sigma = df[col] * resolutions[i]\n",
    "        noise = np.random.normal(0, sigma)\n",
    "        df_smeared[col] += noise\n",
    "\n",
    "    return df_smeared"
   ]
  },
  {
   "cell_type": "code",
   "execution_count": null,
   "id": "2",
   "metadata": {},
   "outputs": [],
   "source": [
    "# Load resolution config\n",
    "det_cfg = config[\"detector\"]\n",
    "res = det_cfg[\"energy_resolution\"]\n",
    "\n",
    "# Apply smearing\n",
    "df_smeared = apply_energy_smearing(df, resolutions=res)"
   ]
  },
  {
   "cell_type": "code",
   "execution_count": null,
   "id": "3",
   "metadata": {},
   "outputs": [],
   "source": [
    "import matplotlib.pyplot as plt\n",
    "\n",
    "layer = 2  # for example, dE_3\n",
    "plt.figure(figsize=(8, 4))\n",
    "plt.hist(df[f'dE_{layer+1}'], bins=100, alpha=0.5, label=\"Original\")\n",
    "plt.hist(df_smeared[f'dE_{layer+1}'], bins=100, alpha=0.5, label=\"Smeared\")\n",
    "plt.title(f\"Energy Loss in Layer {layer+1}\")\n",
    "plt.xlabel(\"Energy Loss [MeV]\")\n",
    "plt.ylabel(\"Counts\")\n",
    "plt.legend()\n",
    "plt.tight_layout()\n",
    "plt.show()"
   ]
  },
  {
   "cell_type": "code",
   "execution_count": null,
   "id": "4",
   "metadata": {},
   "outputs": [],
   "source": [
    "# Save datasets\n",
    "raw_path = PROJECT_ROOT / config[\"paths\"][\"output_data_raw\"]\n",
    "smeared_path = PROJECT_ROOT / config[\"paths\"][\"output_data_smeared\"]\n",
    "\n",
    "df.to_csv(raw_path, index=False)\n",
    "df_smeared.to_csv(smeared_path, index=False)\n",
    "\n",
    "print(f\"Raw data saved to: {raw_path}\")\n",
    "print(f\"Smeared data saved to: {smeared_path}\")\n"
   ]
  },
  {
   "cell_type": "code",
   "execution_count": null,
   "id": "5",
   "metadata": {},
   "outputs": [],
   "source": []
  }
 ],
 "metadata": {
  "kernelspec": {
   "display_name": "Python 3 (ipykernel)",
   "language": "python",
   "name": "python3"
  },
  "language_info": {
   "codemirror_mode": {
    "name": "ipython",
    "version": 3
   },
   "file_extension": ".py",
   "mimetype": "text/x-python",
   "name": "python",
   "nbconvert_exporter": "python",
   "pygments_lexer": "ipython3",
   "version": "3.10.12"
  }
 },
 "nbformat": 4,
 "nbformat_minor": 5
}
